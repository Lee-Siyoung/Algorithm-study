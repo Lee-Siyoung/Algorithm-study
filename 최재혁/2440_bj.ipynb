{
 "cells": [
  {
   "cell_type": "markdown",
   "id": "dec39aeb-e58e-4de1-8499-9d16fb2b5d92",
   "metadata": {},
   "source": [
    "첫째 줄에는 별 N개, 둘째 줄에는 별 N-1개, ..., N번째 줄에는 별 1개를 찍는 문제"
   ]
  },
  {
   "cell_type": "code",
   "execution_count": 2,
   "id": "00ff46af-3541-4d09-8399-fdc50190d164",
   "metadata": {},
   "outputs": [
    {
     "name": "stdout",
     "output_type": "stream",
     "text": [
      " 5\n"
     ]
    },
    {
     "name": "stdout",
     "output_type": "stream",
     "text": [
      "*****\n",
      "****\n",
      "***\n",
      "**\n",
      "*\n"
     ]
    }
   ],
   "source": [
    "N=int(input()) #테스트\n",
    "\n",
    "for i in range(N+1,1,-1):\n",
    "    for i in range(1,i):\n",
    "        print('*',end='')\n",
    "    print()"
   ]
  }
 ],
 "metadata": {
  "kernelspec": {
   "display_name": "Python 3",
   "language": "python",
   "name": "python3"
  },
  "language_info": {
   "codemirror_mode": {
    "name": "ipython",
    "version": 3
   },
   "file_extension": ".py",
   "mimetype": "text/x-python",
   "name": "python",
   "nbconvert_exporter": "python",
   "pygments_lexer": "ipython3",
   "version": "3.8.8"
  }
 },
 "nbformat": 4,
 "nbformat_minor": 5
}
