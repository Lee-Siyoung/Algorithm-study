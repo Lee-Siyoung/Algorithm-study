{
 "cells": [
  {
   "cell_type": "code",
   "execution_count": 2,
   "id": "f5b7958a",
   "metadata": {},
   "outputs": [
    {
     "name": "stdout",
     "output_type": "stream",
     "text": [
      "a\n",
      "1\n",
      "aeiww\n",
      "3\n",
      "#\n"
     ]
    }
   ],
   "source": [
    "while True:\n",
    "    x=input()\n",
    "    number=0\n",
    "    if x=='#':\n",
    "        break\n",
    "    for i in list(x):\n",
    "        if i in ['a','e','i','o','u','A','E','I','O','U']:\n",
    "            number+=1\n",
    "    print(number)"
   ]
  }
 ],
 "metadata": {
  "kernelspec": {
   "display_name": "Python 3",
   "language": "python",
   "name": "python3"
  },
  "language_info": {
   "codemirror_mode": {
    "name": "ipython",
    "version": 3
   },
   "file_extension": ".py",
   "mimetype": "text/x-python",
   "name": "python",
   "nbconvert_exporter": "python",
   "pygments_lexer": "ipython3",
   "version": "3.8.8"
  }
 },
 "nbformat": 4,
 "nbformat_minor": 5
}
